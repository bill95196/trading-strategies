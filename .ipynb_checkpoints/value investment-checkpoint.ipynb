{
 "cells": [
  {
   "cell_type": "code",
   "execution_count": 108,
   "id": "603d7447",
   "metadata": {},
   "outputs": [],
   "source": [
    "import yfinance as yf\n",
    "import numpy as np\n",
    "import pandas as pd\n",
    "\n",
    "class stock:\n",
    "    def __init__(self, ticker):\n",
    "        self.stock_obj = yf.Ticker(ticker)\n",
    "        self.dividends =  self.stock_obj.dividends['2022-01-01':].iloc[-4:].sum()/2\n",
    "        self.price = self.stock_obj.history(start = \"2024-01-01\")['Close'].iloc[-1]\n",
    "        self.eps = (self.stock_obj.financials.loc['Basic EPS'].iloc[0] \n",
    "                    if not np.isnan(self.stock_obj.financials.loc['Basic EPS'].iloc[0]) \n",
    "                    else self.stock_obj.financials.loc['Basic EPS'].iloc[1])\n",
    "        self.PE = self.price / self.eps\n",
    "        self.dividend_ratio = self.dividends / self.price\n",
    "# define a stock object with PE and dividend yield       "
   ]
  },
  {
   "cell_type": "code",
   "execution_count": 109,
   "id": "a2f083db",
   "metadata": {},
   "outputs": [],
   "source": [
    "sp500 = pd.read_csv(\"sp500.csv\")     # read the stock lists\n",
    "russell = pd.read_csv(\"Russell3000.csv\")"
   ]
  },
  {
   "cell_type": "code",
   "execution_count": 110,
   "id": "eef8741d",
   "metadata": {},
   "outputs": [],
   "source": [
    "stock_list = list(set(list(russell['ticker']) + list(sp500['ticker'])))"
   ]
  },
  {
   "cell_type": "code",
   "execution_count": 112,
   "id": "092ccf89",
   "metadata": {},
   "outputs": [
    {
     "name": "stderr",
     "output_type": "stream",
     "text": [
      "CTIC: No timezone found, symbol may be delisted\n"
     ]
    },
    {
     "name": "stdout",
     "output_type": "stream",
     "text": [
      "CTICis delisted\n"
     ]
    },
    {
     "name": "stderr",
     "output_type": "stream",
     "text": [
      "C:\\Users\\02221\\AppData\\Local\\Temp\\ipykernel_20424\\1253059757.py:13: RuntimeWarning: divide by zero encountered in scalar divide\n",
      "  self.PE = self.price / self.eps\n"
     ]
    }
   ],
   "source": [
    "tic1, PE, div = [], [], []\n",
    "price = []\n",
    "\n",
    "\n",
    "for i in stock_list:\n",
    "    try:\n",
    "        ticker = stock(i)\n",
    "        tic1.append(i)\n",
    "        PE.append(ticker.PE)\n",
    "        div.append(ticker.dividend_ratio)\n",
    "        price.append(ticker.price)\n",
    "    except:\n",
    "        print(i + \"is delisted\")\n"
   ]
  },
  {
   "cell_type": "code",
   "execution_count": 113,
   "id": "2c028693",
   "metadata": {},
   "outputs": [
    {
     "data": {
      "text/html": [
       "<div>\n",
       "<style scoped>\n",
       "    .dataframe tbody tr th:only-of-type {\n",
       "        vertical-align: middle;\n",
       "    }\n",
       "\n",
       "    .dataframe tbody tr th {\n",
       "        vertical-align: top;\n",
       "    }\n",
       "\n",
       "    .dataframe thead th {\n",
       "        text-align: right;\n",
       "    }\n",
       "</style>\n",
       "<table border=\"1\" class=\"dataframe\">\n",
       "  <thead>\n",
       "    <tr style=\"text-align: right;\">\n",
       "      <th></th>\n",
       "      <th>ticker</th>\n",
       "      <th>PE</th>\n",
       "      <th>div_ratio</th>\n",
       "      <th>price</th>\n",
       "    </tr>\n",
       "  </thead>\n",
       "  <tbody>\n",
       "    <tr>\n",
       "      <th>0</th>\n",
       "      <td>KALV</td>\n",
       "      <td>-3.891892</td>\n",
       "      <td>0.000000</td>\n",
       "      <td>12.960000</td>\n",
       "    </tr>\n",
       "    <tr>\n",
       "      <th>1</th>\n",
       "      <td>MCRI</td>\n",
       "      <td>14.402174</td>\n",
       "      <td>0.089057</td>\n",
       "      <td>66.250000</td>\n",
       "    </tr>\n",
       "    <tr>\n",
       "      <th>2</th>\n",
       "      <td>BIO</td>\n",
       "      <td>-2.615650</td>\n",
       "      <td>0.000000</td>\n",
       "      <td>318.559998</td>\n",
       "    </tr>\n",
       "    <tr>\n",
       "      <th>3</th>\n",
       "      <td>MQ</td>\n",
       "      <td>-18.411765</td>\n",
       "      <td>0.000000</td>\n",
       "      <td>6.260000</td>\n",
       "    </tr>\n",
       "    <tr>\n",
       "      <th>4</th>\n",
       "      <td>BNL</td>\n",
       "      <td>23.569443</td>\n",
       "      <td>0.065999</td>\n",
       "      <td>16.969999</td>\n",
       "    </tr>\n",
       "    <tr>\n",
       "      <th>...</th>\n",
       "      <td>...</td>\n",
       "      <td>...</td>\n",
       "      <td>...</td>\n",
       "      <td>...</td>\n",
       "    </tr>\n",
       "    <tr>\n",
       "      <th>2438</th>\n",
       "      <td>UIS</td>\n",
       "      <td>-4.082802</td>\n",
       "      <td>0.000000</td>\n",
       "      <td>6.410000</td>\n",
       "    </tr>\n",
       "    <tr>\n",
       "      <th>2439</th>\n",
       "      <td>CERE</td>\n",
       "      <td>-18.405173</td>\n",
       "      <td>0.000000</td>\n",
       "      <td>42.700001</td>\n",
       "    </tr>\n",
       "    <tr>\n",
       "      <th>2440</th>\n",
       "      <td>SXI</td>\n",
       "      <td>12.481734</td>\n",
       "      <td>0.000000</td>\n",
       "      <td>146.910004</td>\n",
       "    </tr>\n",
       "    <tr>\n",
       "      <th>2441</th>\n",
       "      <td>EFC</td>\n",
       "      <td>-8.979021</td>\n",
       "      <td>0.000000</td>\n",
       "      <td>12.840000</td>\n",
       "    </tr>\n",
       "    <tr>\n",
       "      <th>2442</th>\n",
       "      <td>KRG</td>\n",
       "      <td>-369.666672</td>\n",
       "      <td>0.000000</td>\n",
       "      <td>22.180000</td>\n",
       "    </tr>\n",
       "  </tbody>\n",
       "</table>\n",
       "<p>2443 rows × 4 columns</p>\n",
       "</div>"
      ],
      "text/plain": [
       "     ticker          PE  div_ratio       price\n",
       "0      KALV   -3.891892   0.000000   12.960000\n",
       "1      MCRI   14.402174   0.089057   66.250000\n",
       "2       BIO   -2.615650   0.000000  318.559998\n",
       "3        MQ  -18.411765   0.000000    6.260000\n",
       "4       BNL   23.569443   0.065999   16.969999\n",
       "...     ...         ...        ...         ...\n",
       "2438    UIS   -4.082802   0.000000    6.410000\n",
       "2439   CERE  -18.405173   0.000000   42.700001\n",
       "2440    SXI   12.481734   0.000000  146.910004\n",
       "2441    EFC   -8.979021   0.000000   12.840000\n",
       "2442    KRG -369.666672   0.000000   22.180000\n",
       "\n",
       "[2443 rows x 4 columns]"
      ]
     },
     "execution_count": 113,
     "metadata": {},
     "output_type": "execute_result"
    }
   ],
   "source": [
    "data = {'ticker': tic1, 'PE': PE, 'div_ratio': div, 'price':price}\n",
    "df = pd.DataFrame(data)\n",
    "df"
   ]
  },
  {
   "cell_type": "code",
   "execution_count": 114,
   "id": "c6ed0620",
   "metadata": {},
   "outputs": [],
   "source": [
    "df.sort_values('PE').to_csv('output.csv')"
   ]
  },
  {
   "cell_type": "code",
   "execution_count": 122,
   "id": "592155b1",
   "metadata": {},
   "outputs": [],
   "source": [
    "df = df[(df['PE'] >  0) & (df['div_ratio'] > 0.05) & (df['PE'] < 10) ]"
   ]
  },
  {
   "cell_type": "code",
   "execution_count": 128,
   "id": "eeb5b1de",
   "metadata": {},
   "outputs": [],
   "source": [
    "df.sort_values('PE').to_csv(\"value_stock.csv\")"
   ]
  },
  {
   "cell_type": "code",
   "execution_count": 131,
   "id": "2a8536b5",
   "metadata": {},
   "outputs": [
    {
     "data": {
      "text/html": [
       "<div>\n",
       "<style scoped>\n",
       "    .dataframe tbody tr th:only-of-type {\n",
       "        vertical-align: middle;\n",
       "    }\n",
       "\n",
       "    .dataframe tbody tr th {\n",
       "        vertical-align: top;\n",
       "    }\n",
       "\n",
       "    .dataframe thead th {\n",
       "        text-align: right;\n",
       "    }\n",
       "</style>\n",
       "<table border=\"1\" class=\"dataframe\">\n",
       "  <thead>\n",
       "    <tr style=\"text-align: right;\">\n",
       "      <th></th>\n",
       "      <th>ticker</th>\n",
       "      <th>PE</th>\n",
       "      <th>div_ratio</th>\n",
       "      <th>price</th>\n",
       "    </tr>\n",
       "  </thead>\n",
       "  <tbody>\n",
       "    <tr>\n",
       "      <th>735</th>\n",
       "      <td>BRY</td>\n",
       "      <td>2.106583</td>\n",
       "      <td>0.144345</td>\n",
       "      <td>6.720000</td>\n",
       "    </tr>\n",
       "    <tr>\n",
       "      <th>242</th>\n",
       "      <td>MPW</td>\n",
       "      <td>2.286667</td>\n",
       "      <td>0.256560</td>\n",
       "      <td>3.430000</td>\n",
       "    </tr>\n",
       "    <tr>\n",
       "      <th>667</th>\n",
       "      <td>CHRD</td>\n",
       "      <td>2.589550</td>\n",
       "      <td>0.075381</td>\n",
       "      <td>157.600006</td>\n",
       "    </tr>\n",
       "    <tr>\n",
       "      <th>818</th>\n",
       "      <td>ASC</td>\n",
       "      <td>4.146006</td>\n",
       "      <td>0.076412</td>\n",
       "      <td>15.050000</td>\n",
       "    </tr>\n",
       "    <tr>\n",
       "      <th>887</th>\n",
       "      <td>GOGL</td>\n",
       "      <td>4.269565</td>\n",
       "      <td>0.050916</td>\n",
       "      <td>9.820000</td>\n",
       "    </tr>\n",
       "    <tr>\n",
       "      <th>578</th>\n",
       "      <td>OGN</td>\n",
       "      <td>4.639889</td>\n",
       "      <td>0.066866</td>\n",
       "      <td>16.750000</td>\n",
       "    </tr>\n",
       "    <tr>\n",
       "      <th>195</th>\n",
       "      <td>DVN</td>\n",
       "      <td>4.673413</td>\n",
       "      <td>0.067103</td>\n",
       "      <td>42.770000</td>\n",
       "    </tr>\n",
       "    <tr>\n",
       "      <th>379</th>\n",
       "      <td>WU</td>\n",
       "      <td>5.187234</td>\n",
       "      <td>0.077112</td>\n",
       "      <td>12.190000</td>\n",
       "    </tr>\n",
       "    <tr>\n",
       "      <th>408</th>\n",
       "      <td>HAFC</td>\n",
       "      <td>5.528528</td>\n",
       "      <td>0.054318</td>\n",
       "      <td>18.410000</td>\n",
       "    </tr>\n",
       "    <tr>\n",
       "      <th>323</th>\n",
       "      <td>FISI</td>\n",
       "      <td>6.002793</td>\n",
       "      <td>0.055840</td>\n",
       "      <td>21.490000</td>\n",
       "    </tr>\n",
       "  </tbody>\n",
       "</table>\n",
       "</div>"
      ],
      "text/plain": [
       "    ticker        PE  div_ratio       price\n",
       "735    BRY  2.106583   0.144345    6.720000\n",
       "242    MPW  2.286667   0.256560    3.430000\n",
       "667   CHRD  2.589550   0.075381  157.600006\n",
       "818    ASC  4.146006   0.076412   15.050000\n",
       "887   GOGL  4.269565   0.050916    9.820000\n",
       "578    OGN  4.639889   0.066866   16.750000\n",
       "195    DVN  4.673413   0.067103   42.770000\n",
       "379     WU  5.187234   0.077112   12.190000\n",
       "408   HAFC  5.528528   0.054318   18.410000\n",
       "323   FISI  6.002793   0.055840   21.490000"
      ]
     },
     "execution_count": 131,
     "metadata": {},
     "output_type": "execute_result"
    }
   ],
   "source": [
    "df.sort_values('PE').head(10)"
   ]
  },
  {
   "cell_type": "code",
   "execution_count": null,
   "id": "35a071fa",
   "metadata": {},
   "outputs": [],
   "source": []
  }
 ],
 "metadata": {
  "kernelspec": {
   "display_name": "Python 3 (ipykernel)",
   "language": "python",
   "name": "python3"
  },
  "language_info": {
   "codemirror_mode": {
    "name": "ipython",
    "version": 3
   },
   "file_extension": ".py",
   "mimetype": "text/x-python",
   "name": "python",
   "nbconvert_exporter": "python",
   "pygments_lexer": "ipython3",
   "version": "3.10.9"
  }
 },
 "nbformat": 4,
 "nbformat_minor": 5
}
